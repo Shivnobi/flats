{
 "cells": [
  {
   "cell_type": "markdown",
   "id": "5dcf8af5-2f47-4e4d-b1e1-a1cfa49c992a",
   "metadata": {},
   "source": [
    "## Importing Libraries\n"
   ]
  },
  {
   "cell_type": "code",
   "execution_count": 1,
   "id": "ccdeeb05-45db-4ef4-84d3-6af7bacb1ff5",
   "metadata": {},
   "outputs": [],
   "source": [
    "import matplotlib.pyplot as plt\n",
    "import pandas as pd\n",
    "import numpy as np\n",
    "\n",
    "from collections import Counter\n",
    "from IPython.display import display\n",
    "from sklearn.impute import KNNImputer\n",
    "from pylab import rcParams\n",
    "from pathlib import Path"
   ]
  },
  {
   "cell_type": "markdown",
   "id": "ab75d4dd-79af-4d88-8beb-441757829977",
   "metadata": {},
   "source": [
    "## Setup"
   ]
  },
  {
   "cell_type": "code",
   "execution_count": 2,
   "id": "8096c99a-be30-4b59-b201-e770a52adb93",
   "metadata": {},
   "outputs": [],
   "source": [
    "# Create directory for images \n",
    "Path(\"img\").mkdir(parents=True, exist_ok=True)\n",
    "\n",
    "# Set default figure size\n",
    "rcParams['figure.figsize'] = (4, 4)\n",
    "\n",
    "# Tell pandas how to display floats\n",
    "pd.options.display.float_format = \"{:,.2f}\".format"
   ]
  },
  {
   "cell_type": "markdown",
   "id": "3d2939fa-125f-4aee-8c05-9c44384e6453",
   "metadata": {},
   "source": [
    "## Goal"
   ]
  },
  {
   "cell_type": "markdown",
   "id": "3a08f2bc-390c-4519-971b-378df8a441fd",
   "metadata": {},
   "source": [
    "From the property listings Krakow, we would like to create a model to predict flat prices."
   ]
  },
  {
   "cell_type": "markdown",
   "id": "24560546-9d89-49be-8087-a4c2f0022fca",
   "metadata": {},
   "source": [
    "## Data loading"
   ]
  },
  {
   "cell_type": "code",
   "execution_count": 3,
   "id": "dfbbd08f-6f55-4514-9b94-f8ff6e0b7772",
   "metadata": {},
   "outputs": [],
   "source": [
    "data = pd.read_csv('real_estate_dataset.csv')"
   ]
  },
  {
   "cell_type": "code",
   "execution_count": 4,
   "id": "fca4775c-412f-4851-b2d5-355224f29115",
   "metadata": {
    "scrolled": true
   },
   "outputs": [
    {
     "name": "stdout",
     "output_type": "stream",
     "text": [
      "<class 'pandas.core.frame.DataFrame'>\n",
      "RangeIndex: 10484 entries, 0 to 10483\n",
      "Data columns (total 23 columns):\n",
      " #   Column       Non-Null Count  Dtype  \n",
      "---  ------       --------------  -----  \n",
      " 0   Date         10484 non-null  object \n",
      " 1   City         8815 non-null   object \n",
      " 2   District     6079 non-null   object \n",
      " 3   Amount       10484 non-null  float64\n",
      " 4   Currency     10471 non-null  object \n",
      " 5   Property     10397 non-null  object \n",
      " 6   Seller       9661 non-null   object \n",
      " 7   Area         10355 non-null  float64\n",
      " 8   Rooms        10484 non-null  int64  \n",
      " 9   Bathrooms    6262 non-null   float64\n",
      " 10  Parking      3847 non-null   object \n",
      " 11  Garden       10484 non-null  bool   \n",
      " 12  Balcony      10484 non-null  bool   \n",
      " 13  Terrace      10484 non-null  bool   \n",
      " 14  Floor        10484 non-null  bool   \n",
      " 15  New          10484 non-null  bool   \n",
      " 16  Estate       10484 non-null  bool   \n",
      " 17  Townhouse    10484 non-null  bool   \n",
      " 18  Apartment    10484 non-null  bool   \n",
      " 19  Land         10484 non-null  bool   \n",
      " 20  Studio       10484 non-null  bool   \n",
      " 21  Title        10484 non-null  object \n",
      " 22  Description  8615 non-null   object \n",
      "dtypes: bool(10), float64(3), int64(1), object(9)\n",
      "memory usage: 1.1+ MB\n"
     ]
    }
   ],
   "source": [
    "data.info()"
   ]
  },
  {
   "cell_type": "markdown",
   "id": "0fba3d7f-a0d9-4e0f-9235-0063aa0d98e5",
   "metadata": {},
   "source": [
    "First we sort the data in from newest to oldest, forcing rows with missing Date values to be last.\n",
    "\n"
   ]
  },
  {
   "cell_type": "code",
   "execution_count": 5,
   "id": "800e7ed8-498f-4a0c-b891-fd445903bfd2",
   "metadata": {},
   "outputs": [],
   "source": [
    "data = data.sort_values(by='Date', \n",
    "                        ascending=False, \n",
    "                        na_position='last', \n",
    "                        ignore_index=True)"
   ]
  },
  {
   "cell_type": "markdown",
   "id": "0f656496-3a01-4189-88d9-74485d47b7fb",
   "metadata": {},
   "source": [
    "Next we assume that the Title column uniquely identifies a listing."
   ]
  },
  {
   "cell_type": "code",
   "execution_count": 6,
   "id": "a9c72b63-442b-4208-b14b-df6593e782ab",
   "metadata": {},
   "outputs": [],
   "source": [
    "data = data.drop_duplicates(['Title'], keep='first')"
   ]
  },
  {
   "cell_type": "markdown",
   "id": "c95d1275-a9cb-4d32-bb3b-3a287c50abde",
   "metadata": {},
   "source": [
    "After this the shape of the data is:"
   ]
  },
  {
   "cell_type": "code",
   "execution_count": 7,
   "id": "300d4ea2-d0f0-4d23-92b5-6c9345507f5f",
   "metadata": {},
   "outputs": [
    {
     "name": "stdout",
     "output_type": "stream",
     "text": [
      "(3860, 23)\n"
     ]
    }
   ],
   "source": [
    "print(data.shape)"
   ]
  },
  {
   "cell_type": "markdown",
   "id": "ec62be23-0fdb-4f58-ad05-2be6cfd3f3f8",
   "metadata": {},
   "source": [
    "## Data Exploration"
   ]
  },
  {
   "cell_type": "markdown",
   "id": "3848f252-0903-41e1-b22a-99f659b69e2e",
   "metadata": {},
   "source": [
    "Check for Missing Values"
   ]
  },
  {
   "cell_type": "code",
   "execution_count": 8,
   "id": "ffdc065c-0e9b-47e3-a14b-edb5849fb426",
   "metadata": {},
   "outputs": [
    {
     "data": {
      "text/html": [
       "<div>\n",
       "<style scoped>\n",
       "    .dataframe tbody tr th:only-of-type {\n",
       "        vertical-align: middle;\n",
       "    }\n",
       "\n",
       "    .dataframe tbody tr th {\n",
       "        vertical-align: top;\n",
       "    }\n",
       "\n",
       "    .dataframe thead th {\n",
       "        text-align: right;\n",
       "    }\n",
       "</style>\n",
       "<table border=\"1\" class=\"dataframe\">\n",
       "  <thead>\n",
       "    <tr style=\"text-align: right;\">\n",
       "      <th></th>\n",
       "      <th>Missing</th>\n",
       "    </tr>\n",
       "  </thead>\n",
       "  <tbody>\n",
       "    <tr>\n",
       "      <th>Parking</th>\n",
       "      <td>2388</td>\n",
       "    </tr>\n",
       "    <tr>\n",
       "      <th>Bathrooms</th>\n",
       "      <td>1511</td>\n",
       "    </tr>\n",
       "    <tr>\n",
       "      <th>Description</th>\n",
       "      <td>657</td>\n",
       "    </tr>\n",
       "    <tr>\n",
       "      <th>City</th>\n",
       "      <td>605</td>\n",
       "    </tr>\n",
       "    <tr>\n",
       "      <th>District</th>\n",
       "      <td>603</td>\n",
       "    </tr>\n",
       "    <tr>\n",
       "      <th>Seller</th>\n",
       "      <td>291</td>\n",
       "    </tr>\n",
       "    <tr>\n",
       "      <th>Property</th>\n",
       "      <td>84</td>\n",
       "    </tr>\n",
       "    <tr>\n",
       "      <th>Area</th>\n",
       "      <td>40</td>\n",
       "    </tr>\n",
       "    <tr>\n",
       "      <th>Currency</th>\n",
       "      <td>4</td>\n",
       "    </tr>\n",
       "  </tbody>\n",
       "</table>\n",
       "</div>"
      ],
      "text/plain": [
       "             Missing\n",
       "Parking         2388\n",
       "Bathrooms       1511\n",
       "Description      657\n",
       "City             605\n",
       "District         603\n",
       "Seller           291\n",
       "Property          84\n",
       "Area              40\n",
       "Currency           4"
      ]
     },
     "execution_count": 8,
     "metadata": {},
     "output_type": "execute_result"
    }
   ],
   "source": [
    "missing = data.isnull().sum(axis=0)\n",
    "missing.name = 'Missing'\n",
    "missing = missing.to_frame()\n",
    "missing = missing[missing['Missing'] > 0]\n",
    "missing.sort_values('Missing', ascending=False)"
   ]
  },
  {
   "cell_type": "markdown",
   "id": "be44c463-e811-45cc-b048-ae62ea7bd1a0",
   "metadata": {},
   "source": [
    "## Check Numeric Columns"
   ]
  },
  {
   "cell_type": "markdown",
   "id": "845efdda-0f11-4435-abe8-c034735d07f2",
   "metadata": {},
   "source": [
    "We see that we have 23 columns at our disposal. We inspect the numeric columns to see what we are dealing with."
   ]
  },
  {
   "cell_type": "code",
   "execution_count": 9,
   "id": "2b4074f9-3ae3-430e-a8ed-0fe8966873bc",
   "metadata": {},
   "outputs": [
    {
     "data": {
      "text/html": [
       "<div>\n",
       "<style scoped>\n",
       "    .dataframe tbody tr th:only-of-type {\n",
       "        vertical-align: middle;\n",
       "    }\n",
       "\n",
       "    .dataframe tbody tr th {\n",
       "        vertical-align: top;\n",
       "    }\n",
       "\n",
       "    .dataframe thead th {\n",
       "        text-align: right;\n",
       "    }\n",
       "</style>\n",
       "<table border=\"1\" class=\"dataframe\">\n",
       "  <thead>\n",
       "    <tr style=\"text-align: right;\">\n",
       "      <th></th>\n",
       "      <th>Amount</th>\n",
       "      <th>Area</th>\n",
       "      <th>Rooms</th>\n",
       "      <th>Bathrooms</th>\n",
       "    </tr>\n",
       "  </thead>\n",
       "  <tbody>\n",
       "    <tr>\n",
       "      <th>count</th>\n",
       "      <td>3,860.00</td>\n",
       "      <td>3,820.00</td>\n",
       "      <td>3,860.00</td>\n",
       "      <td>2,349.00</td>\n",
       "    </tr>\n",
       "    <tr>\n",
       "      <th>mean</th>\n",
       "      <td>822,425.31</td>\n",
       "      <td>82.72</td>\n",
       "      <td>3.03</td>\n",
       "      <td>1.49</td>\n",
       "    </tr>\n",
       "    <tr>\n",
       "      <th>std</th>\n",
       "      <td>246,810.86</td>\n",
       "      <td>52.58</td>\n",
       "      <td>1.38</td>\n",
       "      <td>0.72</td>\n",
       "    </tr>\n",
       "    <tr>\n",
       "      <th>min</th>\n",
       "      <td>253,705.22</td>\n",
       "      <td>20.00</td>\n",
       "      <td>1.00</td>\n",
       "      <td>1.00</td>\n",
       "    </tr>\n",
       "    <tr>\n",
       "      <th>25%</th>\n",
       "      <td>653,873.83</td>\n",
       "      <td>47.58</td>\n",
       "      <td>2.00</td>\n",
       "      <td>1.00</td>\n",
       "    </tr>\n",
       "    <tr>\n",
       "      <th>50%</th>\n",
       "      <td>784,263.03</td>\n",
       "      <td>69.59</td>\n",
       "      <td>3.00</td>\n",
       "      <td>1.00</td>\n",
       "    </tr>\n",
       "    <tr>\n",
       "      <th>75%</th>\n",
       "      <td>946,935.93</td>\n",
       "      <td>103.15</td>\n",
       "      <td>4.00</td>\n",
       "      <td>2.00</td>\n",
       "    </tr>\n",
       "    <tr>\n",
       "      <th>max</th>\n",
       "      <td>3,040,784.63</td>\n",
       "      <td>651.68</td>\n",
       "      <td>6.00</td>\n",
       "      <td>4.00</td>\n",
       "    </tr>\n",
       "  </tbody>\n",
       "</table>\n",
       "</div>"
      ],
      "text/plain": [
       "            Amount     Area    Rooms  Bathrooms\n",
       "count     3,860.00 3,820.00 3,860.00   2,349.00\n",
       "mean    822,425.31    82.72     3.03       1.49\n",
       "std     246,810.86    52.58     1.38       0.72\n",
       "min     253,705.22    20.00     1.00       1.00\n",
       "25%     653,873.83    47.58     2.00       1.00\n",
       "50%     784,263.03    69.59     3.00       1.00\n",
       "75%     946,935.93   103.15     4.00       2.00\n",
       "max   3,040,784.63   651.68     6.00       4.00"
      ]
     },
     "execution_count": 9,
     "metadata": {},
     "output_type": "execute_result"
    }
   ],
   "source": [
    "data.describe()"
   ]
  },
  {
   "cell_type": "markdown",
   "id": "5aeeab39-c386-4a27-beb4-cc6c2068712f",
   "metadata": {},
   "source": [
    "## Check binary columns\n",
    "\n",
    "We inspect the data to see if binary columns are properly populated and check for imbalances."
   ]
  },
  {
   "cell_type": "code",
   "execution_count": 10,
   "id": "8be851c5-c4a1-40be-9086-eb63cbecd4fc",
   "metadata": {},
   "outputs": [
    {
     "data": {
      "text/html": [
       "<div>\n",
       "<style scoped>\n",
       "    .dataframe tbody tr th:only-of-type {\n",
       "        vertical-align: middle;\n",
       "    }\n",
       "\n",
       "    .dataframe tbody tr th {\n",
       "        vertical-align: top;\n",
       "    }\n",
       "\n",
       "    .dataframe thead th {\n",
       "        text-align: right;\n",
       "    }\n",
       "</style>\n",
       "<table border=\"1\" class=\"dataframe\">\n",
       "  <thead>\n",
       "    <tr style=\"text-align: right;\">\n",
       "      <th></th>\n",
       "      <th>Garden</th>\n",
       "      <th>Count</th>\n",
       "    </tr>\n",
       "  </thead>\n",
       "  <tbody>\n",
       "    <tr>\n",
       "      <th>0</th>\n",
       "      <td>False</td>\n",
       "      <td>3094</td>\n",
       "    </tr>\n",
       "    <tr>\n",
       "      <th>1</th>\n",
       "      <td>True</td>\n",
       "      <td>766</td>\n",
       "    </tr>\n",
       "  </tbody>\n",
       "</table>\n",
       "</div>"
      ],
      "text/plain": [
       "   Garden  Count\n",
       "0   False   3094\n",
       "1    True    766"
      ]
     },
     "metadata": {},
     "output_type": "display_data"
    },
    {
     "data": {
      "text/html": [
       "<div>\n",
       "<style scoped>\n",
       "    .dataframe tbody tr th:only-of-type {\n",
       "        vertical-align: middle;\n",
       "    }\n",
       "\n",
       "    .dataframe tbody tr th {\n",
       "        vertical-align: top;\n",
       "    }\n",
       "\n",
       "    .dataframe thead th {\n",
       "        text-align: right;\n",
       "    }\n",
       "</style>\n",
       "<table border=\"1\" class=\"dataframe\">\n",
       "  <thead>\n",
       "    <tr style=\"text-align: right;\">\n",
       "      <th></th>\n",
       "      <th>Balcony</th>\n",
       "      <th>Count</th>\n",
       "    </tr>\n",
       "  </thead>\n",
       "  <tbody>\n",
       "    <tr>\n",
       "      <th>0</th>\n",
       "      <td>False</td>\n",
       "      <td>2513</td>\n",
       "    </tr>\n",
       "    <tr>\n",
       "      <th>1</th>\n",
       "      <td>True</td>\n",
       "      <td>1347</td>\n",
       "    </tr>\n",
       "  </tbody>\n",
       "</table>\n",
       "</div>"
      ],
      "text/plain": [
       "   Balcony  Count\n",
       "0    False   2513\n",
       "1     True   1347"
      ]
     },
     "metadata": {},
     "output_type": "display_data"
    },
    {
     "data": {
      "text/html": [
       "<div>\n",
       "<style scoped>\n",
       "    .dataframe tbody tr th:only-of-type {\n",
       "        vertical-align: middle;\n",
       "    }\n",
       "\n",
       "    .dataframe tbody tr th {\n",
       "        vertical-align: top;\n",
       "    }\n",
       "\n",
       "    .dataframe thead th {\n",
       "        text-align: right;\n",
       "    }\n",
       "</style>\n",
       "<table border=\"1\" class=\"dataframe\">\n",
       "  <thead>\n",
       "    <tr style=\"text-align: right;\">\n",
       "      <th></th>\n",
       "      <th>Terrace</th>\n",
       "      <th>Count</th>\n",
       "    </tr>\n",
       "  </thead>\n",
       "  <tbody>\n",
       "    <tr>\n",
       "      <th>0</th>\n",
       "      <td>False</td>\n",
       "      <td>3410</td>\n",
       "    </tr>\n",
       "    <tr>\n",
       "      <th>1</th>\n",
       "      <td>True</td>\n",
       "      <td>450</td>\n",
       "    </tr>\n",
       "  </tbody>\n",
       "</table>\n",
       "</div>"
      ],
      "text/plain": [
       "   Terrace  Count\n",
       "0    False   3410\n",
       "1     True    450"
      ]
     },
     "metadata": {},
     "output_type": "display_data"
    },
    {
     "data": {
      "text/html": [
       "<div>\n",
       "<style scoped>\n",
       "    .dataframe tbody tr th:only-of-type {\n",
       "        vertical-align: middle;\n",
       "    }\n",
       "\n",
       "    .dataframe tbody tr th {\n",
       "        vertical-align: top;\n",
       "    }\n",
       "\n",
       "    .dataframe thead th {\n",
       "        text-align: right;\n",
       "    }\n",
       "</style>\n",
       "<table border=\"1\" class=\"dataframe\">\n",
       "  <thead>\n",
       "    <tr style=\"text-align: right;\">\n",
       "      <th></th>\n",
       "      <th>Floor</th>\n",
       "      <th>Count</th>\n",
       "    </tr>\n",
       "  </thead>\n",
       "  <tbody>\n",
       "    <tr>\n",
       "      <th>0</th>\n",
       "      <td>False</td>\n",
       "      <td>2320</td>\n",
       "    </tr>\n",
       "    <tr>\n",
       "      <th>1</th>\n",
       "      <td>True</td>\n",
       "      <td>1540</td>\n",
       "    </tr>\n",
       "  </tbody>\n",
       "</table>\n",
       "</div>"
      ],
      "text/plain": [
       "   Floor  Count\n",
       "0  False   2320\n",
       "1   True   1540"
      ]
     },
     "metadata": {},
     "output_type": "display_data"
    },
    {
     "data": {
      "text/html": [
       "<div>\n",
       "<style scoped>\n",
       "    .dataframe tbody tr th:only-of-type {\n",
       "        vertical-align: middle;\n",
       "    }\n",
       "\n",
       "    .dataframe tbody tr th {\n",
       "        vertical-align: top;\n",
       "    }\n",
       "\n",
       "    .dataframe thead th {\n",
       "        text-align: right;\n",
       "    }\n",
       "</style>\n",
       "<table border=\"1\" class=\"dataframe\">\n",
       "  <thead>\n",
       "    <tr style=\"text-align: right;\">\n",
       "      <th></th>\n",
       "      <th>New</th>\n",
       "      <th>Count</th>\n",
       "    </tr>\n",
       "  </thead>\n",
       "  <tbody>\n",
       "    <tr>\n",
       "      <th>0</th>\n",
       "      <td>False</td>\n",
       "      <td>2577</td>\n",
       "    </tr>\n",
       "    <tr>\n",
       "      <th>1</th>\n",
       "      <td>True</td>\n",
       "      <td>1283</td>\n",
       "    </tr>\n",
       "  </tbody>\n",
       "</table>\n",
       "</div>"
      ],
      "text/plain": [
       "     New  Count\n",
       "0  False   2577\n",
       "1   True   1283"
      ]
     },
     "metadata": {},
     "output_type": "display_data"
    },
    {
     "data": {
      "text/html": [
       "<div>\n",
       "<style scoped>\n",
       "    .dataframe tbody tr th:only-of-type {\n",
       "        vertical-align: middle;\n",
       "    }\n",
       "\n",
       "    .dataframe tbody tr th {\n",
       "        vertical-align: top;\n",
       "    }\n",
       "\n",
       "    .dataframe thead th {\n",
       "        text-align: right;\n",
       "    }\n",
       "</style>\n",
       "<table border=\"1\" class=\"dataframe\">\n",
       "  <thead>\n",
       "    <tr style=\"text-align: right;\">\n",
       "      <th></th>\n",
       "      <th>Estate</th>\n",
       "      <th>Count</th>\n",
       "    </tr>\n",
       "  </thead>\n",
       "  <tbody>\n",
       "    <tr>\n",
       "      <th>0</th>\n",
       "      <td>False</td>\n",
       "      <td>3268</td>\n",
       "    </tr>\n",
       "    <tr>\n",
       "      <th>1</th>\n",
       "      <td>True</td>\n",
       "      <td>592</td>\n",
       "    </tr>\n",
       "  </tbody>\n",
       "</table>\n",
       "</div>"
      ],
      "text/plain": [
       "   Estate  Count\n",
       "0   False   3268\n",
       "1    True    592"
      ]
     },
     "metadata": {},
     "output_type": "display_data"
    },
    {
     "data": {
      "text/html": [
       "<div>\n",
       "<style scoped>\n",
       "    .dataframe tbody tr th:only-of-type {\n",
       "        vertical-align: middle;\n",
       "    }\n",
       "\n",
       "    .dataframe tbody tr th {\n",
       "        vertical-align: top;\n",
       "    }\n",
       "\n",
       "    .dataframe thead th {\n",
       "        text-align: right;\n",
       "    }\n",
       "</style>\n",
       "<table border=\"1\" class=\"dataframe\">\n",
       "  <thead>\n",
       "    <tr style=\"text-align: right;\">\n",
       "      <th></th>\n",
       "      <th>Townhouse</th>\n",
       "      <th>Count</th>\n",
       "    </tr>\n",
       "  </thead>\n",
       "  <tbody>\n",
       "    <tr>\n",
       "      <th>0</th>\n",
       "      <td>False</td>\n",
       "      <td>3515</td>\n",
       "    </tr>\n",
       "    <tr>\n",
       "      <th>1</th>\n",
       "      <td>True</td>\n",
       "      <td>345</td>\n",
       "    </tr>\n",
       "  </tbody>\n",
       "</table>\n",
       "</div>"
      ],
      "text/plain": [
       "   Townhouse  Count\n",
       "0      False   3515\n",
       "1       True    345"
      ]
     },
     "metadata": {},
     "output_type": "display_data"
    },
    {
     "data": {
      "text/html": [
       "<div>\n",
       "<style scoped>\n",
       "    .dataframe tbody tr th:only-of-type {\n",
       "        vertical-align: middle;\n",
       "    }\n",
       "\n",
       "    .dataframe tbody tr th {\n",
       "        vertical-align: top;\n",
       "    }\n",
       "\n",
       "    .dataframe thead th {\n",
       "        text-align: right;\n",
       "    }\n",
       "</style>\n",
       "<table border=\"1\" class=\"dataframe\">\n",
       "  <thead>\n",
       "    <tr style=\"text-align: right;\">\n",
       "      <th></th>\n",
       "      <th>Apartment</th>\n",
       "      <th>Count</th>\n",
       "    </tr>\n",
       "  </thead>\n",
       "  <tbody>\n",
       "    <tr>\n",
       "      <th>0</th>\n",
       "      <td>False</td>\n",
       "      <td>3281</td>\n",
       "    </tr>\n",
       "    <tr>\n",
       "      <th>1</th>\n",
       "      <td>True</td>\n",
       "      <td>579</td>\n",
       "    </tr>\n",
       "  </tbody>\n",
       "</table>\n",
       "</div>"
      ],
      "text/plain": [
       "   Apartment  Count\n",
       "0      False   3281\n",
       "1       True    579"
      ]
     },
     "metadata": {},
     "output_type": "display_data"
    },
    {
     "data": {
      "text/html": [
       "<div>\n",
       "<style scoped>\n",
       "    .dataframe tbody tr th:only-of-type {\n",
       "        vertical-align: middle;\n",
       "    }\n",
       "\n",
       "    .dataframe tbody tr th {\n",
       "        vertical-align: top;\n",
       "    }\n",
       "\n",
       "    .dataframe thead th {\n",
       "        text-align: right;\n",
       "    }\n",
       "</style>\n",
       "<table border=\"1\" class=\"dataframe\">\n",
       "  <thead>\n",
       "    <tr style=\"text-align: right;\">\n",
       "      <th></th>\n",
       "      <th>Land</th>\n",
       "      <th>Count</th>\n",
       "    </tr>\n",
       "  </thead>\n",
       "  <tbody>\n",
       "    <tr>\n",
       "      <th>0</th>\n",
       "      <td>False</td>\n",
       "      <td>2964</td>\n",
       "    </tr>\n",
       "    <tr>\n",
       "      <th>1</th>\n",
       "      <td>True</td>\n",
       "      <td>896</td>\n",
       "    </tr>\n",
       "  </tbody>\n",
       "</table>\n",
       "</div>"
      ],
      "text/plain": [
       "    Land  Count\n",
       "0  False   2964\n",
       "1   True    896"
      ]
     },
     "metadata": {},
     "output_type": "display_data"
    },
    {
     "data": {
      "text/html": [
       "<div>\n",
       "<style scoped>\n",
       "    .dataframe tbody tr th:only-of-type {\n",
       "        vertical-align: middle;\n",
       "    }\n",
       "\n",
       "    .dataframe tbody tr th {\n",
       "        vertical-align: top;\n",
       "    }\n",
       "\n",
       "    .dataframe thead th {\n",
       "        text-align: right;\n",
       "    }\n",
       "</style>\n",
       "<table border=\"1\" class=\"dataframe\">\n",
       "  <thead>\n",
       "    <tr style=\"text-align: right;\">\n",
       "      <th></th>\n",
       "      <th>Studio</th>\n",
       "      <th>Count</th>\n",
       "    </tr>\n",
       "  </thead>\n",
       "  <tbody>\n",
       "    <tr>\n",
       "      <th>0</th>\n",
       "      <td>False</td>\n",
       "      <td>3556</td>\n",
       "    </tr>\n",
       "    <tr>\n",
       "      <th>1</th>\n",
       "      <td>True</td>\n",
       "      <td>304</td>\n",
       "    </tr>\n",
       "  </tbody>\n",
       "</table>\n",
       "</div>"
      ],
      "text/plain": [
       "   Studio  Count\n",
       "0   False   3556\n",
       "1    True    304"
      ]
     },
     "metadata": {},
     "output_type": "display_data"
    }
   ],
   "source": [
    "binary = data.select_dtypes(bool).columns.to_list()\n",
    "\n",
    "for col in binary:\n",
    "    tmp = data[[col, 'Amount']]\n",
    "    tmp = tmp.fillna('NaN')\n",
    "    tmp = tmp.groupby(col, as_index=False)\n",
    "    tmp = tmp.count()\n",
    "    tmp = tmp.rename(columns={'Amount': 'Count'})\n",
    "    tmp = tmp.sort_values('Count', ascending=False)\n",
    "    tmp = tmp.reset_index(drop=True)\n",
    "    display(tmp)"
   ]
  },
  {
   "cell_type": "markdown",
   "id": "b5c7620d-9e46-4b81-a1f8-375b59399d7b",
   "metadata": {},
   "source": [
    "## Check categorical columns\n",
    "We inspect categorical columns to assert that they contain \"valid\" values. Most of these columns were generated by a script during the scraping and etl phase of the project."
   ]
  },
  {
   "cell_type": "code",
   "execution_count": 11,
   "id": "dfd8e530-5321-417c-8f2f-d6ad962074c6",
   "metadata": {},
   "outputs": [
    {
     "data": {
      "text/html": [
       "<div>\n",
       "<style scoped>\n",
       "    .dataframe tbody tr th:only-of-type {\n",
       "        vertical-align: middle;\n",
       "    }\n",
       "\n",
       "    .dataframe tbody tr th {\n",
       "        vertical-align: top;\n",
       "    }\n",
       "\n",
       "    .dataframe thead th {\n",
       "        text-align: right;\n",
       "    }\n",
       "</style>\n",
       "<table border=\"1\" class=\"dataframe\">\n",
       "  <thead>\n",
       "    <tr style=\"text-align: right;\">\n",
       "      <th></th>\n",
       "      <th>City</th>\n",
       "      <th>Count</th>\n",
       "    </tr>\n",
       "  </thead>\n",
       "  <tbody>\n",
       "    <tr>\n",
       "      <th>0</th>\n",
       "      <td>kraków</td>\n",
       "      <td>3255</td>\n",
       "    </tr>\n",
       "    <tr>\n",
       "      <th>1</th>\n",
       "      <td>NaN</td>\n",
       "      <td>605</td>\n",
       "    </tr>\n",
       "  </tbody>\n",
       "</table>\n",
       "</div>"
      ],
      "text/plain": [
       "     City  Count\n",
       "0  kraków   3255\n",
       "1     NaN    605"
      ]
     },
     "metadata": {},
     "output_type": "display_data"
    },
    {
     "data": {
      "text/html": [
       "<div>\n",
       "<style scoped>\n",
       "    .dataframe tbody tr th:only-of-type {\n",
       "        vertical-align: middle;\n",
       "    }\n",
       "\n",
       "    .dataframe tbody tr th {\n",
       "        vertical-align: top;\n",
       "    }\n",
       "\n",
       "    .dataframe thead th {\n",
       "        text-align: right;\n",
       "    }\n",
       "</style>\n",
       "<table border=\"1\" class=\"dataframe\">\n",
       "  <thead>\n",
       "    <tr style=\"text-align: right;\">\n",
       "      <th></th>\n",
       "      <th>District</th>\n",
       "      <th>Count</th>\n",
       "    </tr>\n",
       "  </thead>\n",
       "  <tbody>\n",
       "    <tr>\n",
       "      <th>0</th>\n",
       "      <td>NaN</td>\n",
       "      <td>603</td>\n",
       "    </tr>\n",
       "    <tr>\n",
       "      <th>1</th>\n",
       "      <td>stare miasto</td>\n",
       "      <td>176</td>\n",
       "    </tr>\n",
       "    <tr>\n",
       "      <th>2</th>\n",
       "      <td>podgorze</td>\n",
       "      <td>174</td>\n",
       "    </tr>\n",
       "    <tr>\n",
       "      <th>3</th>\n",
       "      <td>czyzyny</td>\n",
       "      <td>171</td>\n",
       "    </tr>\n",
       "    <tr>\n",
       "      <th>4</th>\n",
       "      <td>pradnik czerwony</td>\n",
       "      <td>169</td>\n",
       "    </tr>\n",
       "    <tr>\n",
       "      <th>5</th>\n",
       "      <td>swoszowice</td>\n",
       "      <td>169</td>\n",
       "    </tr>\n",
       "    <tr>\n",
       "      <th>6</th>\n",
       "      <td>prokocim</td>\n",
       "      <td>168</td>\n",
       "    </tr>\n",
       "    <tr>\n",
       "      <th>7</th>\n",
       "      <td>biezanow</td>\n",
       "      <td>167</td>\n",
       "    </tr>\n",
       "    <tr>\n",
       "      <th>8</th>\n",
       "      <td>grzegorzki</td>\n",
       "      <td>163</td>\n",
       "    </tr>\n",
       "    <tr>\n",
       "      <th>9</th>\n",
       "      <td>zwierzyniec</td>\n",
       "      <td>162</td>\n",
       "    </tr>\n",
       "    <tr>\n",
       "      <th>10</th>\n",
       "      <td>krowodrza</td>\n",
       "      <td>161</td>\n",
       "    </tr>\n",
       "    <tr>\n",
       "      <th>11</th>\n",
       "      <td>lagiewniki</td>\n",
       "      <td>161</td>\n",
       "    </tr>\n",
       "    <tr>\n",
       "      <th>12</th>\n",
       "      <td>podgorze duchackie</td>\n",
       "      <td>161</td>\n",
       "    </tr>\n",
       "    <tr>\n",
       "      <th>13</th>\n",
       "      <td>nowa huta</td>\n",
       "      <td>160</td>\n",
       "    </tr>\n",
       "    <tr>\n",
       "      <th>14</th>\n",
       "      <td>borek falecki</td>\n",
       "      <td>159</td>\n",
       "    </tr>\n",
       "    <tr>\n",
       "      <th>15</th>\n",
       "      <td>pradnik bialy</td>\n",
       "      <td>158</td>\n",
       "    </tr>\n",
       "    <tr>\n",
       "      <th>16</th>\n",
       "      <td>bienczyce</td>\n",
       "      <td>157</td>\n",
       "    </tr>\n",
       "    <tr>\n",
       "      <th>17</th>\n",
       "      <td>mistrzejowice</td>\n",
       "      <td>156</td>\n",
       "    </tr>\n",
       "    <tr>\n",
       "      <th>18</th>\n",
       "      <td>bronowice</td>\n",
       "      <td>155</td>\n",
       "    </tr>\n",
       "    <tr>\n",
       "      <th>19</th>\n",
       "      <td>debniki</td>\n",
       "      <td>155</td>\n",
       "    </tr>\n",
       "    <tr>\n",
       "      <th>20</th>\n",
       "      <td>wzgorza krzeslawickie</td>\n",
       "      <td>155</td>\n",
       "    </tr>\n",
       "  </tbody>\n",
       "</table>\n",
       "</div>"
      ],
      "text/plain": [
       "                 District  Count\n",
       "0                     NaN    603\n",
       "1            stare miasto    176\n",
       "2                podgorze    174\n",
       "3                 czyzyny    171\n",
       "4        pradnik czerwony    169\n",
       "5              swoszowice    169\n",
       "6                prokocim    168\n",
       "7                biezanow    167\n",
       "8              grzegorzki    163\n",
       "9             zwierzyniec    162\n",
       "10              krowodrza    161\n",
       "11             lagiewniki    161\n",
       "12     podgorze duchackie    161\n",
       "13              nowa huta    160\n",
       "14          borek falecki    159\n",
       "15          pradnik bialy    158\n",
       "16              bienczyce    157\n",
       "17          mistrzejowice    156\n",
       "18              bronowice    155\n",
       "19                debniki    155\n",
       "20  wzgorza krzeslawickie    155"
      ]
     },
     "metadata": {},
     "output_type": "display_data"
    },
    {
     "data": {
      "text/html": [
       "<div>\n",
       "<style scoped>\n",
       "    .dataframe tbody tr th:only-of-type {\n",
       "        vertical-align: middle;\n",
       "    }\n",
       "\n",
       "    .dataframe tbody tr th {\n",
       "        vertical-align: top;\n",
       "    }\n",
       "\n",
       "    .dataframe thead th {\n",
       "        text-align: right;\n",
       "    }\n",
       "</style>\n",
       "<table border=\"1\" class=\"dataframe\">\n",
       "  <thead>\n",
       "    <tr style=\"text-align: right;\">\n",
       "      <th></th>\n",
       "      <th>Currency</th>\n",
       "      <th>Count</th>\n",
       "    </tr>\n",
       "  </thead>\n",
       "  <tbody>\n",
       "    <tr>\n",
       "      <th>0</th>\n",
       "      <td>pln</td>\n",
       "      <td>3856</td>\n",
       "    </tr>\n",
       "    <tr>\n",
       "      <th>1</th>\n",
       "      <td>NaN</td>\n",
       "      <td>4</td>\n",
       "    </tr>\n",
       "  </tbody>\n",
       "</table>\n",
       "</div>"
      ],
      "text/plain": [
       "  Currency  Count\n",
       "0      pln   3856\n",
       "1      NaN      4"
      ]
     },
     "metadata": {},
     "output_type": "display_data"
    },
    {
     "data": {
      "text/html": [
       "<div>\n",
       "<style scoped>\n",
       "    .dataframe tbody tr th:only-of-type {\n",
       "        vertical-align: middle;\n",
       "    }\n",
       "\n",
       "    .dataframe tbody tr th {\n",
       "        vertical-align: top;\n",
       "    }\n",
       "\n",
       "    .dataframe thead th {\n",
       "        text-align: right;\n",
       "    }\n",
       "</style>\n",
       "<table border=\"1\" class=\"dataframe\">\n",
       "  <thead>\n",
       "    <tr style=\"text-align: right;\">\n",
       "      <th></th>\n",
       "      <th>Property</th>\n",
       "      <th>Count</th>\n",
       "    </tr>\n",
       "  </thead>\n",
       "  <tbody>\n",
       "    <tr>\n",
       "      <th>0</th>\n",
       "      <td>flat</td>\n",
       "      <td>2779</td>\n",
       "    </tr>\n",
       "    <tr>\n",
       "      <th>1</th>\n",
       "      <td>house</td>\n",
       "      <td>997</td>\n",
       "    </tr>\n",
       "    <tr>\n",
       "      <th>2</th>\n",
       "      <td>NaN</td>\n",
       "      <td>84</td>\n",
       "    </tr>\n",
       "  </tbody>\n",
       "</table>\n",
       "</div>"
      ],
      "text/plain": [
       "  Property  Count\n",
       "0     flat   2779\n",
       "1    house    997\n",
       "2      NaN     84"
      ]
     },
     "metadata": {},
     "output_type": "display_data"
    },
    {
     "data": {
      "text/html": [
       "<div>\n",
       "<style scoped>\n",
       "    .dataframe tbody tr th:only-of-type {\n",
       "        vertical-align: middle;\n",
       "    }\n",
       "\n",
       "    .dataframe tbody tr th {\n",
       "        vertical-align: top;\n",
       "    }\n",
       "\n",
       "    .dataframe thead th {\n",
       "        text-align: right;\n",
       "    }\n",
       "</style>\n",
       "<table border=\"1\" class=\"dataframe\">\n",
       "  <thead>\n",
       "    <tr style=\"text-align: right;\">\n",
       "      <th></th>\n",
       "      <th>Seller</th>\n",
       "      <th>Count</th>\n",
       "    </tr>\n",
       "  </thead>\n",
       "  <tbody>\n",
       "    <tr>\n",
       "      <th>0</th>\n",
       "      <td>realtor</td>\n",
       "      <td>3270</td>\n",
       "    </tr>\n",
       "    <tr>\n",
       "      <th>1</th>\n",
       "      <td>owner</td>\n",
       "      <td>299</td>\n",
       "    </tr>\n",
       "    <tr>\n",
       "      <th>2</th>\n",
       "      <td>NaN</td>\n",
       "      <td>291</td>\n",
       "    </tr>\n",
       "  </tbody>\n",
       "</table>\n",
       "</div>"
      ],
      "text/plain": [
       "    Seller  Count\n",
       "0  realtor   3270\n",
       "1    owner    299\n",
       "2      NaN    291"
      ]
     },
     "metadata": {},
     "output_type": "display_data"
    },
    {
     "data": {
      "text/html": [
       "<div>\n",
       "<style scoped>\n",
       "    .dataframe tbody tr th:only-of-type {\n",
       "        vertical-align: middle;\n",
       "    }\n",
       "\n",
       "    .dataframe tbody tr th {\n",
       "        vertical-align: top;\n",
       "    }\n",
       "\n",
       "    .dataframe thead th {\n",
       "        text-align: right;\n",
       "    }\n",
       "</style>\n",
       "<table border=\"1\" class=\"dataframe\">\n",
       "  <thead>\n",
       "    <tr style=\"text-align: right;\">\n",
       "      <th></th>\n",
       "      <th>Parking</th>\n",
       "      <th>Count</th>\n",
       "    </tr>\n",
       "  </thead>\n",
       "  <tbody>\n",
       "    <tr>\n",
       "      <th>0</th>\n",
       "      <td>NaN</td>\n",
       "      <td>2388</td>\n",
       "    </tr>\n",
       "    <tr>\n",
       "      <th>1</th>\n",
       "      <td>garage</td>\n",
       "      <td>606</td>\n",
       "    </tr>\n",
       "    <tr>\n",
       "      <th>2</th>\n",
       "      <td>street</td>\n",
       "      <td>569</td>\n",
       "    </tr>\n",
       "    <tr>\n",
       "      <th>3</th>\n",
       "      <td>no parking</td>\n",
       "      <td>229</td>\n",
       "    </tr>\n",
       "    <tr>\n",
       "      <th>4</th>\n",
       "      <td>covered</td>\n",
       "      <td>68</td>\n",
       "    </tr>\n",
       "  </tbody>\n",
       "</table>\n",
       "</div>"
      ],
      "text/plain": [
       "      Parking  Count\n",
       "0         NaN   2388\n",
       "1      garage    606\n",
       "2      street    569\n",
       "3  no parking    229\n",
       "4     covered     68"
      ]
     },
     "metadata": {},
     "output_type": "display_data"
    }
   ],
   "source": [
    "categorical = data.select_dtypes('object').columns\n",
    "categorical = categorical.to_list()\n",
    "omit = ['Title', 'Link', 'Description', 'Date']\n",
    "\n",
    "for col in categorical:\n",
    "    if col not in omit:\n",
    "        tmp = data[['Amount', col]].copy()\n",
    "        tmp = tmp.fillna('NaN')\n",
    "        tmp = tmp.groupby(col, as_index=False)\n",
    "        tmp = tmp.count()\n",
    "        tmp = tmp.rename(columns={'Amount': 'Count'})\n",
    "        tmp = tmp.sort_values('Count', ascending=False)\n",
    "        tmp = tmp.reset_index(drop=True)\n",
    "        display(tmp)"
   ]
  },
  {
   "cell_type": "markdown",
   "id": "01f6c7d8-db0e-4bfa-8b6d-5a887e4055ac",
   "metadata": {},
   "source": [
    "## Data cleaning\n",
    "We assume that if we know the district, the City is kraków."
   ]
  },
  {
   "cell_type": "code",
   "execution_count": 12,
   "id": "531bb1ae-601e-4bb1-8ab5-5e020870a5c4",
   "metadata": {},
   "outputs": [],
   "source": [
    "mask = (data['City'].isna() == True) & (data['District'].isna() == False)\n",
    "data.loc[mask, 'City'] = 'kraków'"
   ]
  },
  {
   "cell_type": "markdown",
   "id": "b2fa371f-1471-44a8-8db4-155df00b64f5",
   "metadata": {},
   "source": [
    "We extract more Parking information from the property description."
   ]
  },
  {
   "cell_type": "code",
   "execution_count": 13,
   "id": "584a237b-20de-41b2-8721-650cd4b835ca",
   "metadata": {},
   "outputs": [],
   "source": [
    "def extract_parking(x):\n",
    "    if ('garaż' in x or 'garaz' in x or 'parking' in x) and 'podziemny' in x:\n",
    "        return 'covered'\n",
    "    elif ('garaż' in x or 'garaz' in x) and 'podziemny' not in x:\n",
    "        return 'garage'\n",
    "    elif 'parking' in x and 'podziemny' not in x:\n",
    "        return 'street'\n",
    "    else:\n",
    "        return 'no parking'"
   ]
  },
  {
   "cell_type": "code",
   "execution_count": 14,
   "id": "d6cb0570-af8d-471e-add1-b6030896fbbc",
   "metadata": {},
   "outputs": [],
   "source": [
    "mask = (data['Parking'].isna() == True) & (data['Description'].isna() == False)\n",
    "data.loc[mask, ['Parking', 'Description']] = data.loc[mask, 'Description'].apply(extract_parking)"
   ]
  },
  {
   "cell_type": "code",
   "execution_count": 15,
   "id": "132dda31-ce5a-4d55-8ee6-5be7782b4ebb",
   "metadata": {},
   "outputs": [],
   "source": [
    "mask = data['Parking'].isna() == True\n",
    "data.loc[mask, 'Parking'] = 'no parking'"
   ]
  },
  {
   "cell_type": "markdown",
   "id": "47cead68-1ded-4373-8826-2a878890ff5a",
   "metadata": {},
   "source": [
    "We confirm that we have dealt with all the NaNs in the Parking column."
   ]
  },
  {
   "cell_type": "code",
   "execution_count": 16,
   "id": "3ae5815c-56ad-427d-a1a0-9115298b71f2",
   "metadata": {},
   "outputs": [
    {
     "name": "stdout",
     "output_type": "stream",
     "text": [
      "0\n"
     ]
    }
   ],
   "source": [
    "print(data['Parking'].isna().sum())"
   ]
  },
  {
   "cell_type": "markdown",
   "id": "5344343d-8d7d-40bb-b2da-f0662058c2f3",
   "metadata": {},
   "source": [
    "## Filtering\n",
    "Next we filter the data according to these rules:"
   ]
  },
  {
   "cell_type": "code",
   "execution_count": 17,
   "id": "696eb983-b066-4e95-b705-1f70e875c4fe",
   "metadata": {},
   "outputs": [],
   "source": [
    "data = data[data['City'] == 'kraków']\n",
    "data = data[data['Currency'] == 'pln']\n",
    "data = data[data['Property'] == 'flat']\n",
    "data = data[(data['Amount'] >= data['Amount'].quantile(0.025))]\n",
    "data = data[(data['Amount'] <= data['Amount'].quantile(0.975))]\n",
    "data = data[(data['Area'] >= data['Area'].quantile(0.01))]\n",
    "data = data[(data['Area'] <= data['Area'].quantile(0.99))]\n",
    "data = data[data['District'] != 'unknown']\n",
    "data = data[data['District'].isna() == False]\n",
    "data = data[data['Seller'].isna() == False]\n",
    "data = data[data['Description'].isna() == False]"
   ]
  },
  {
   "cell_type": "code",
   "execution_count": 18,
   "id": "1b38b2ea-5807-42ba-ba19-96b4045b0b79",
   "metadata": {},
   "outputs": [],
   "source": [
    "data = data.reset_index(drop=True)"
   ]
  },
  {
   "cell_type": "code",
   "execution_count": 19,
   "id": "f03a4d9b-6b41-4658-9f6f-2c4d279baa25",
   "metadata": {},
   "outputs": [
    {
     "name": "stdout",
     "output_type": "stream",
     "text": [
      "<class 'pandas.core.frame.DataFrame'>\n",
      "RangeIndex: 1767 entries, 0 to 1766\n",
      "Data columns (total 23 columns):\n",
      " #   Column       Non-Null Count  Dtype  \n",
      "---  ------       --------------  -----  \n",
      " 0   Date         1767 non-null   object \n",
      " 1   City         1767 non-null   object \n",
      " 2   District     1767 non-null   object \n",
      " 3   Amount       1767 non-null   float64\n",
      " 4   Currency     1767 non-null   object \n",
      " 5   Property     1767 non-null   object \n",
      " 6   Seller       1767 non-null   object \n",
      " 7   Area         1767 non-null   float64\n",
      " 8   Rooms        1767 non-null   int64  \n",
      " 9   Bathrooms    1071 non-null   float64\n",
      " 10  Parking      1767 non-null   object \n",
      " 11  Garden       1767 non-null   bool   \n",
      " 12  Balcony      1767 non-null   bool   \n",
      " 13  Terrace      1767 non-null   bool   \n",
      " 14  Floor        1767 non-null   bool   \n",
      " 15  New          1767 non-null   bool   \n",
      " 16  Estate       1767 non-null   bool   \n",
      " 17  Townhouse    1767 non-null   bool   \n",
      " 18  Apartment    1767 non-null   bool   \n",
      " 19  Land         1767 non-null   bool   \n",
      " 20  Studio       1767 non-null   bool   \n",
      " 21  Title        1767 non-null   object \n",
      " 22  Description  1767 non-null   object \n",
      "dtypes: bool(10), float64(3), int64(1), object(9)\n",
      "memory usage: 196.8+ KB\n"
     ]
    }
   ],
   "source": [
    "data.info()"
   ]
  },
  {
   "cell_type": "markdown",
   "id": "fd57ef68-c28b-4acc-a865-34217f76800a",
   "metadata": {},
   "source": [
    "## Impute missing values\n",
    "The next step is to fill in missing values for numeric columns Amount Area Rooms and Bathrooms. We use the KNNImputer to accomplish this."
   ]
  },
  {
   "cell_type": "code",
   "execution_count": 20,
   "id": "70cc36bf-6870-47a2-90dc-a80511224ce4",
   "metadata": {},
   "outputs": [],
   "source": [
    "numeric = list(data.select_dtypes('number').columns)"
   ]
  },
  {
   "cell_type": "code",
   "execution_count": 21,
   "id": "49506f77-5073-4349-bfdc-3b172844a84f",
   "metadata": {},
   "outputs": [],
   "source": [
    "mask = (data['Bathrooms'].isna() == True | data['Rooms'].isna())\n",
    "missing = data[numeric]\n",
    "\n",
    "imputer = KNNImputer(n_neighbors=5)\n",
    "imputer.fit(missing)\n",
    "\n",
    "missing = imputer.transform(missing)\n",
    "missing = pd.DataFrame(missing, columns=numeric)\n",
    "\n",
    "for col in numeric:\n",
    "    data[col] = missing[col]\n",
    "    \n",
    "for col in numeric:\n",
    "    data[col] = data[col].apply(lambda x: round(x)) "
   ]
  },
  {
   "cell_type": "code",
   "execution_count": 22,
   "id": "721359e2-00dc-4785-9ead-f2a711cfd5af",
   "metadata": {},
   "outputs": [
    {
     "name": "stdout",
     "output_type": "stream",
     "text": [
      "(1767, 23)\n"
     ]
    }
   ],
   "source": [
    "print(data.shape)"
   ]
  },
  {
   "cell_type": "markdown",
   "id": "61a6f3e5-1250-4e94-bbec-b58a7cd33f0c",
   "metadata": {},
   "source": [
    "## Save data\n",
    "Verify that there are no NaNs in data."
   ]
  },
  {
   "cell_type": "code",
   "execution_count": 23,
   "id": "fff92cb9-f7c3-49d8-95b5-3936f3f34693",
   "metadata": {},
   "outputs": [
    {
     "data": {
      "text/plain": [
       "np.int64(0)"
      ]
     },
     "execution_count": 23,
     "metadata": {},
     "output_type": "execute_result"
    }
   ],
   "source": [
    "data.isnull().sum().sum()"
   ]
  },
  {
   "cell_type": "markdown",
   "id": "686a8115-c5ab-47f2-88d5-1550d6b4c5e1",
   "metadata": {},
   "source": [
    "## Remove columns that will not be used further."
   ]
  },
  {
   "cell_type": "code",
   "execution_count": 24,
   "id": "f73d060f-4b4d-4996-bd37-ebf13413e404",
   "metadata": {},
   "outputs": [],
   "source": [
    "data = data.drop(['Title', \n",
    "                  'Description',  \n",
    "                  'Property', \n",
    "                  'City', \n",
    "                  'Currency', \n",
    "                  'Date'], axis=1)"
   ]
  },
  {
   "cell_type": "markdown",
   "id": "c8263d29-6a13-4ce3-9ad2-25caa8986be5",
   "metadata": {},
   "source": [
    "## Take a last peek at the data."
   ]
  },
  {
   "cell_type": "code",
   "execution_count": 25,
   "id": "980489e0-ba8b-4432-b2a9-70ee39317d0e",
   "metadata": {},
   "outputs": [
    {
     "data": {
      "text/html": [
       "<div>\n",
       "<style scoped>\n",
       "    .dataframe tbody tr th:only-of-type {\n",
       "        vertical-align: middle;\n",
       "    }\n",
       "\n",
       "    .dataframe tbody tr th {\n",
       "        vertical-align: top;\n",
       "    }\n",
       "\n",
       "    .dataframe thead th {\n",
       "        text-align: right;\n",
       "    }\n",
       "</style>\n",
       "<table border=\"1\" class=\"dataframe\">\n",
       "  <thead>\n",
       "    <tr style=\"text-align: right;\">\n",
       "      <th></th>\n",
       "      <th>District</th>\n",
       "      <th>Amount</th>\n",
       "      <th>Seller</th>\n",
       "      <th>Area</th>\n",
       "      <th>Rooms</th>\n",
       "      <th>Bathrooms</th>\n",
       "      <th>Parking</th>\n",
       "      <th>Garden</th>\n",
       "      <th>Balcony</th>\n",
       "      <th>Terrace</th>\n",
       "      <th>Floor</th>\n",
       "      <th>New</th>\n",
       "      <th>Estate</th>\n",
       "      <th>Townhouse</th>\n",
       "      <th>Apartment</th>\n",
       "      <th>Land</th>\n",
       "      <th>Studio</th>\n",
       "    </tr>\n",
       "  </thead>\n",
       "  <tbody>\n",
       "    <tr>\n",
       "      <th>0</th>\n",
       "      <td>biezanow</td>\n",
       "      <td>536505</td>\n",
       "      <td>realtor</td>\n",
       "      <td>22</td>\n",
       "      <td>1</td>\n",
       "      <td>1</td>\n",
       "      <td>no parking</td>\n",
       "      <td>False</td>\n",
       "      <td>False</td>\n",
       "      <td>False</td>\n",
       "      <td>False</td>\n",
       "      <td>False</td>\n",
       "      <td>False</td>\n",
       "      <td>False</td>\n",
       "      <td>False</td>\n",
       "      <td>False</td>\n",
       "      <td>False</td>\n",
       "    </tr>\n",
       "    <tr>\n",
       "      <th>1</th>\n",
       "      <td>bienczyce</td>\n",
       "      <td>646975</td>\n",
       "      <td>realtor</td>\n",
       "      <td>46</td>\n",
       "      <td>2</td>\n",
       "      <td>1</td>\n",
       "      <td>no parking</td>\n",
       "      <td>True</td>\n",
       "      <td>True</td>\n",
       "      <td>False</td>\n",
       "      <td>False</td>\n",
       "      <td>False</td>\n",
       "      <td>False</td>\n",
       "      <td>True</td>\n",
       "      <td>False</td>\n",
       "      <td>False</td>\n",
       "      <td>False</td>\n",
       "    </tr>\n",
       "    <tr>\n",
       "      <th>2</th>\n",
       "      <td>lagiewniki</td>\n",
       "      <td>816233</td>\n",
       "      <td>realtor</td>\n",
       "      <td>37</td>\n",
       "      <td>1</td>\n",
       "      <td>1</td>\n",
       "      <td>no parking</td>\n",
       "      <td>False</td>\n",
       "      <td>False</td>\n",
       "      <td>True</td>\n",
       "      <td>False</td>\n",
       "      <td>True</td>\n",
       "      <td>False</td>\n",
       "      <td>False</td>\n",
       "      <td>False</td>\n",
       "      <td>False</td>\n",
       "      <td>False</td>\n",
       "    </tr>\n",
       "    <tr>\n",
       "      <th>3</th>\n",
       "      <td>zwierzyniec</td>\n",
       "      <td>1009826</td>\n",
       "      <td>realtor</td>\n",
       "      <td>55</td>\n",
       "      <td>2</td>\n",
       "      <td>2</td>\n",
       "      <td>no parking</td>\n",
       "      <td>True</td>\n",
       "      <td>False</td>\n",
       "      <td>False</td>\n",
       "      <td>False</td>\n",
       "      <td>True</td>\n",
       "      <td>False</td>\n",
       "      <td>True</td>\n",
       "      <td>False</td>\n",
       "      <td>False</td>\n",
       "      <td>False</td>\n",
       "    </tr>\n",
       "    <tr>\n",
       "      <th>4</th>\n",
       "      <td>bronowice</td>\n",
       "      <td>733546</td>\n",
       "      <td>realtor</td>\n",
       "      <td>67</td>\n",
       "      <td>2</td>\n",
       "      <td>1</td>\n",
       "      <td>garage</td>\n",
       "      <td>True</td>\n",
       "      <td>False</td>\n",
       "      <td>False</td>\n",
       "      <td>False</td>\n",
       "      <td>True</td>\n",
       "      <td>False</td>\n",
       "      <td>False</td>\n",
       "      <td>False</td>\n",
       "      <td>False</td>\n",
       "      <td>False</td>\n",
       "    </tr>\n",
       "  </tbody>\n",
       "</table>\n",
       "</div>"
      ],
      "text/plain": [
       "      District   Amount   Seller  Area  Rooms  Bathrooms     Parking  Garden  \\\n",
       "0     biezanow   536505  realtor    22      1          1  no parking   False   \n",
       "1    bienczyce   646975  realtor    46      2          1  no parking    True   \n",
       "2   lagiewniki   816233  realtor    37      1          1  no parking   False   \n",
       "3  zwierzyniec  1009826  realtor    55      2          2  no parking    True   \n",
       "4    bronowice   733546  realtor    67      2          1      garage    True   \n",
       "\n",
       "   Balcony  Terrace  Floor    New  Estate  Townhouse  Apartment   Land  Studio  \n",
       "0    False    False  False  False   False      False      False  False   False  \n",
       "1     True    False  False  False   False       True      False  False   False  \n",
       "2    False     True  False   True   False      False      False  False   False  \n",
       "3    False    False  False   True   False       True      False  False   False  \n",
       "4    False    False  False   True   False      False      False  False   False  "
      ]
     },
     "execution_count": 25,
     "metadata": {},
     "output_type": "execute_result"
    }
   ],
   "source": [
    "data.head()"
   ]
  },
  {
   "cell_type": "code",
   "execution_count": 26,
   "id": "50d48dd8-5e76-4d9a-9060-e434f9881413",
   "metadata": {
    "scrolled": true
   },
   "outputs": [
    {
     "data": {
      "text/html": [
       "<div>\n",
       "<style scoped>\n",
       "    .dataframe tbody tr th:only-of-type {\n",
       "        vertical-align: middle;\n",
       "    }\n",
       "\n",
       "    .dataframe tbody tr th {\n",
       "        vertical-align: top;\n",
       "    }\n",
       "\n",
       "    .dataframe thead th {\n",
       "        text-align: right;\n",
       "    }\n",
       "</style>\n",
       "<table border=\"1\" class=\"dataframe\">\n",
       "  <thead>\n",
       "    <tr style=\"text-align: right;\">\n",
       "      <th></th>\n",
       "      <th>Amount</th>\n",
       "      <th>Area</th>\n",
       "      <th>Rooms</th>\n",
       "      <th>Bathrooms</th>\n",
       "    </tr>\n",
       "  </thead>\n",
       "  <tbody>\n",
       "    <tr>\n",
       "      <th>count</th>\n",
       "      <td>1,767.00</td>\n",
       "      <td>1,767.00</td>\n",
       "      <td>1,767.00</td>\n",
       "      <td>1,767.00</td>\n",
       "    </tr>\n",
       "    <tr>\n",
       "      <th>mean</th>\n",
       "      <td>767,417.36</td>\n",
       "      <td>67.45</td>\n",
       "      <td>2.71</td>\n",
       "      <td>1.33</td>\n",
       "    </tr>\n",
       "    <tr>\n",
       "      <th>std</th>\n",
       "      <td>173,627.88</td>\n",
       "      <td>30.57</td>\n",
       "      <td>1.26</td>\n",
       "      <td>0.56</td>\n",
       "    </tr>\n",
       "    <tr>\n",
       "      <th>min</th>\n",
       "      <td>453,475.00</td>\n",
       "      <td>22.00</td>\n",
       "      <td>1.00</td>\n",
       "      <td>1.00</td>\n",
       "    </tr>\n",
       "    <tr>\n",
       "      <th>25%</th>\n",
       "      <td>636,175.50</td>\n",
       "      <td>44.00</td>\n",
       "      <td>2.00</td>\n",
       "      <td>1.00</td>\n",
       "    </tr>\n",
       "    <tr>\n",
       "      <th>50%</th>\n",
       "      <td>748,405.00</td>\n",
       "      <td>62.00</td>\n",
       "      <td>3.00</td>\n",
       "      <td>1.00</td>\n",
       "    </tr>\n",
       "    <tr>\n",
       "      <th>75%</th>\n",
       "      <td>879,074.00</td>\n",
       "      <td>86.00</td>\n",
       "      <td>3.00</td>\n",
       "      <td>2.00</td>\n",
       "    </tr>\n",
       "    <tr>\n",
       "      <th>max</th>\n",
       "      <td>1,243,885.00</td>\n",
       "      <td>171.00</td>\n",
       "      <td>6.00</td>\n",
       "      <td>4.00</td>\n",
       "    </tr>\n",
       "  </tbody>\n",
       "</table>\n",
       "</div>"
      ],
      "text/plain": [
       "            Amount     Area    Rooms  Bathrooms\n",
       "count     1,767.00 1,767.00 1,767.00   1,767.00\n",
       "mean    767,417.36    67.45     2.71       1.33\n",
       "std     173,627.88    30.57     1.26       0.56\n",
       "min     453,475.00    22.00     1.00       1.00\n",
       "25%     636,175.50    44.00     2.00       1.00\n",
       "50%     748,405.00    62.00     3.00       1.00\n",
       "75%     879,074.00    86.00     3.00       2.00\n",
       "max   1,243,885.00   171.00     6.00       4.00"
      ]
     },
     "execution_count": 26,
     "metadata": {},
     "output_type": "execute_result"
    }
   ],
   "source": [
    "data.describe()"
   ]
  },
  {
   "cell_type": "markdown",
   "id": "4bbc1777-d8dc-4a59-a5bd-5cc7e2d77993",
   "metadata": {},
   "source": [
    "## Save it for further analysis."
   ]
  },
  {
   "cell_type": "code",
   "execution_count": 27,
   "id": "977c54f6-b981-48db-9ae9-cc5378ec3915",
   "metadata": {},
   "outputs": [],
   "source": [
    "data.to_csv('cleaned_real_estate.csv', index=False)"
   ]
  }
 ],
 "metadata": {
  "kernelspec": {
   "display_name": "Python [conda env:base] *",
   "language": "python",
   "name": "conda-base-py"
  },
  "language_info": {
   "codemirror_mode": {
    "name": "ipython",
    "version": 3
   },
   "file_extension": ".py",
   "mimetype": "text/x-python",
   "name": "python",
   "nbconvert_exporter": "python",
   "pygments_lexer": "ipython3",
   "version": "3.13.5"
  }
 },
 "nbformat": 4,
 "nbformat_minor": 5
}
